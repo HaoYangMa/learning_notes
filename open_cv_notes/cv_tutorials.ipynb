{
 "cells": [
  {
   "cell_type": "code",
   "execution_count": 1,
   "metadata": {},
   "outputs": [
    {
     "name": "stdout",
     "output_type": "stream",
     "text": [
      "<class 'numpy.ndarray'>\n"
     ]
    },
    {
     "data": {
      "text/plain": [
       "True"
      ]
     },
     "execution_count": 1,
     "metadata": {},
     "output_type": "execute_result"
    }
   ],
   "source": [
    "import numpy as np\n",
    "import cv2\n",
    "\n",
    "img = cv2.imread(\"img.png\", 0)\n",
    "print(type(img))\n",
    "cv2.imshow(\"img.png\", img)\n",
    "cv2.waitKey(0)\n",
    "cv2.destroyAllWindows()\n",
    "cv2.imwrite('messigray.png', img)"
   ]
  },
  {
   "cell_type": "markdown",
   "metadata": {},
   "source": [
    "imread  读取图片为矩阵形式，格式为class 'numpy.ndarray'\n",
    "\n",
    "imshow  调用python进程显示图片\n",
    "\n",
    "waitkey(等待毫秒数，0为一直等待) 等待按键并获取键值，然后执行下一条语句\n",
    "\n",
    "destroyAllWindows  关闭所有本代码打开的窗口\n",
    "\n",
    "imwrite('文件名'，矩阵)  把矩阵写成名为XX的图片"
   ]
  },
  {
   "cell_type": "code",
   "execution_count": 2,
   "metadata": {
    "collapsed": true
   },
   "outputs": [],
   "source": [
    "import numpy as np\n",
    "import cv2\n",
    "\n",
    "img = cv2.imread('img.png', 0)\n",
    "cv2.imshow('image', img)\n",
    "k = cv2.waitKey(0) & 0xFF\n",
    "if k == 27:  # wait for ESC key to exit\n",
    "    cv2.destroyAllWindows()\n",
    "elif k == ord('s'):  # wait for 's' key to save and exit\n",
    "    cv2.imwrite('messigray.png', img)\n",
    "    cv2.destroyAllWindows()"
   ]
  },
  {
   "cell_type": "markdown",
   "metadata": {},
   "source": [
    "\" & 0xFF \" 64位系统下所需要加的参数\n",
    "\n",
    "27代表ESC\n",
    "\n",
    "ord()返回的是Unicode\n",
    "\n",
    "ord(\"s\")代表键盘上的 s 按键\n",
    "\n",
    "整体的功能就是等待ESC或S按键按下，判断是退出还是保存\n",
    "\n",
    "按其他键则会略过if，不执行动作"
   ]
  },
  {
   "cell_type": "code",
   "execution_count": 3,
   "metadata": {},
   "outputs": [
    {
     "data": {
      "image/png": "[encoded data removed]",
      "text/plain": [
       "<matplotlib.figure.Figure at 0x1e7ca5898d0>"
      ]
     },
     "metadata": {},
     "output_type": "display_data"
    }
   ],
   "source": [
    "import numpy as np\n",
    "import cv2\n",
    "from matplotlib import pyplot as plt\n",
    "\n",
    "img = cv2.imread('img.png', 0)\n",
    "plt.imshow(img, cmap='gray', interpolation='bicubic')\n",
    "plt.xticks([]), plt.yticks([])  # to hide tick values on X and Y axis\n",
    "plt.show()"
   ]
  },
  {
   "cell_type": "markdown",
   "metadata": {},
   "source": [
    "这次用matplotlib来显示打开的图片\n",
    "\n",
    "换汤不换药\n",
    "\n",
    "plt.xticks([]), plt.yticks([])  表示在最终显示的图片中，隐藏了原本会显示出来的X、Y轴"
   ]
  },
  {
   "cell_type": "code",
   "execution_count": 11,
   "metadata": {},
   "outputs": [
    {
     "name": "stdout",
     "output_type": "stream",
     "text": [
      "pixel selected is  [255 255 255]\n",
      "The blue pixel selected is 255\n",
      "pixel (10,10,2) is  255\n",
      "pixel (10,10,2) is  254\n"
     ]
    }
   ],
   "source": [
    "import numpy as np\n",
    "import cv2\n",
    "\n",
    "img = cv2.imread(\"img.png\")\n",
    "px = img[10, 10]\n",
    "print(\"pixel selected is \",px)\n",
    "blue = img[10, 10, 0]\n",
    "print(\"The blue pixel selected is\", blue)\n",
    "\n",
    "print(\"pixel (10,10,2) is \",img.item(10,10,2))\n",
    "img.itemset((10,10,2),254)\n",
    "print(\"pixel (10,10,2) is \",img.item(10,10,2))"
   ]
  },
  {
   "cell_type": "markdown",
   "metadata": {},
   "source": [
    "img[10, 10, 0] 读取蓝色通道的某个像素，关键是那个 \" 0 \"\n",
    "\n",
    "img[10, 10, 2] 读取红色通道的某个像素，关键是那个 \" 2 \"\n",
    "\n",
    "itemset 取代直接用 img[10, 10, 2] = 254 这种ndarray赋值操作，这里是官方给的建议"
   ]
  },
  {
   "cell_type": "code",
   "execution_count": 12,
   "metadata": {},
   "outputs": [
    {
     "name": "stdout",
     "output_type": "stream",
     "text": [
      "(32, 32, 3)\n",
      "3072\n",
      "uint8\n"
     ]
    }
   ],
   "source": [
    "print (img.shape)\n",
    "print (img.size)\n",
    "print (img.dtype)"
   ]
  },
  {
   "cell_type": "markdown",
   "metadata": {},
   "source": [
    "顾名思义\n",
    "\n",
    "图片形状——是?x?的矩阵呢；\n",
    "图片大小——这里指32*32*3，即矩阵元素数量；\n",
    "图片数据类型——不注意这个容易出bug"
   ]
  },
  {
   "cell_type": "code",
   "execution_count": null,
   "metadata": {
    "collapsed": true
   },
   "outputs": [],
   "source": [
    "import numpy as np\n",
    "import cv2\n",
    "\n",
    "img = cv2.imread(\"img.png\")\n",
    "copy_region = img[28:32, 25:29, 0:3]   # copy_region\n",
    "print(copy_region)\n",
    "img[26:30, 28:32, 0:3] = copy_region  # aim_region\n",
    "print(copy_region)"
   ]
  },
  {
   "cell_type": "markdown",
   "metadata": {},
   "source": [
    "复制copy_region区域的图像信息到图片中的另一个区域，注意复制出来的区域 和 去往的 目标区域 两者大小要一致"
   ]
  },
  {
   "cell_type": "code",
   "execution_count": null,
   "metadata": {
    "collapsed": true
   },
   "outputs": [],
   "source": [
    "import numpy as np\n",
    "import cv2\n",
    "\n",
    "img = cv2.imread(\"img.png\")\n",
    "\n",
    "b, g, r = cv2.split(img)\n",
    "img = cv2.merge((b, g, r))\n",
    "\n",
    "b = img[:, :, 0]"
   ]
  },
  {
   "cell_type": "markdown",
   "metadata": {},
   "source": [
    "蓝绿红通道分割\n",
    "\n",
    "cv2.split 执行费时\n",
    "\n",
    "b = img[:, :, 0] 执行速度更快"
   ]
  },
  {
   "cell_type": "code",
   "execution_count": null,
   "metadata": {
    "collapsed": true
   },
   "outputs": [],
   "source": [
    "import cv2\n",
    "import numpy as np\n",
    "from matplotlib import pyplot as plt\n",
    "\n",
    "BLUE = [255,0,0]\n",
    "\n",
    "img1 = cv2.imread('opencv_logo.png')\n",
    "\n",
    "replicate = cv2.copyMakeBorder(img1,10,10,10,10,cv2.BORDER_REPLICATE)\n",
    "reflect = cv2.copyMakeBorder(img1,10,10,10,10,cv2.BORDER_REFLECT)\n",
    "reflect101 = cv2.copyMakeBorder(img1,10,10,10,10,cv2.BORDER_REFLECT_101)\n",
    "wrap = cv2.copyMakeBorder(img1,10,10,10,10,cv2.BORDER_WRAP)\n",
    "constant= cv2.copyMakeBorder(img1,10,10,10,10,cv2.BORDER_CONSTANT,value=BLUE)\n",
    "\n",
    "plt.subplot(231),plt.imshow(img1,'gray'),plt.title('ORIGINAL')\n",
    "plt.subplot(232),plt.imshow(replicate,'gray'),plt.title('REPLICATE')\n",
    "plt.subplot(233),plt.imshow(reflect,'gray'),plt.title('REFLECT')\n",
    "plt.subplot(234),plt.imshow(reflect101,'gray'),plt.title('REFLECT_101')\n",
    "plt.subplot(235),plt.imshow(wrap,'gray'),plt.title('WRAP')\n",
    "plt.subplot(236),plt.imshow(constant,'gray'),plt.title('CONSTANT')\n",
    "\n",
    "plt.show()"
   ]
  },
  {
   "cell_type": "markdown",
   "metadata": {},
   "source": [
    "# 有趣的变换\n",
    "\n",
    "src - input image\n",
    "\n",
    "top, bottom, left, right - border width in number of pixels in corresponding directions\n",
    "\n",
    "borderType - Flag defining what kind of border to be added. It can be following types:\n",
    "cv2.BORDER_CONSTANT - Adds a constant colored border. The value should be given as next argument.\n",
    "\n",
    "cv2.BORDER_REFLECT - Border will be mirror reflection of the border elements, like this : fedcba|abcdefgh|hgfedcb\n",
    "\n",
    "cv2.BORDER_REFLECT_101 or cv2.BORDER_DEFAULT - Same as above, but with a slight change, like this : gfedcb|abcdefgh|gfedcba\n",
    "\n",
    "cv2.BORDER_REPLICATE - Last element is replicated throughout, like this: aaaaaa|abcdefgh|hhhhhhh\n",
    "\n",
    "cv2.BORDER_WRAP - Can’t explain, it will look like this : cdefgh|abcdefgh|abcdefg\n",
    "value - Color of border if border type is cv2.BORDER_CONSTANT"
   ]
  },
  {
   "cell_type": "code",
   "execution_count": null,
   "metadata": {
    "collapsed": true
   },
   "outputs": [],
   "source": [
    "import cv2\n",
    "import numpy as np\n",
    "\n",
    "x = np.uint8([250])\n",
    "y = np.uint8([10])\n",
    "\n",
    "print(cv2.add(x, y))  # 250+10 = 260 => 255\n",
    "print(x + y)  # 250+10 = 260 % 256 = 4"
   ]
  },
  {
   "cell_type": "markdown",
   "metadata": {},
   "source": [
    "对uint8数据类型，cv2的加法和numpy加法是不同的\n",
    "\n",
    "cv2是饱和都算成是上界的值\n",
    "\n",
    "numpy则是饱和溢出\n",
    "\n",
    "cv2的加法，更符合图像处理的逻辑，所以图像处理尽量使用cv2的加法"
   ]
  },
  {
   "cell_type": "code",
   "execution_count": null,
   "metadata": {
    "collapsed": true
   },
   "outputs": [],
   "source": [
    ""
   ]
  }
 ],
 "metadata": {
  "kernelspec": {
   "display_name": "Python 3",
   "language": "python",
   "name": "python3"
  },
  "language_info": {
   "codemirror_mode": {
    "name": "ipython",
    "version": 3.0
   },
   "file_extension": ".py",
   "mimetype": "text/x-python",
   "name": "python",
   "nbconvert_exporter": "python",
   "pygments_lexer": "ipython3",
   "version": "3.5.3"
  }
 },
 "nbformat": 4,
 "nbformat_minor": 0
}